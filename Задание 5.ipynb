{
 "cells": [
  {
   "cell_type": "markdown",
   "id": "3c3d2d92",
   "metadata": {},
   "source": [
    "# Изучение  визуализаций с помощью библиотеки seaborn и решение оптимизационной задачи"
   ]
  },
  {
   "cell_type": "code",
   "execution_count": 1,
   "id": "15e78026",
   "metadata": {},
   "outputs": [],
   "source": [
    "import pandas as pd \n",
    "import scipy.stats as stats\n",
    "import matplotlib.pyplot as plt\n",
    "from matplotlib.ticker import PercentFormatter\n",
    "from matplotlib.pyplot import figure\n",
    "import seaborn as sns\n",
    "import numpy as np\n",
    "from scipy.optimize import curve_fit\n",
    "\n",
    "from scipy.optimize import Bounds,minimize"
   ]
  },
  {
   "cell_type": "code",
   "execution_count": 2,
   "id": "c0efe628",
   "metadata": {},
   "outputs": [
    {
     "data": {
      "text/html": [
       "<div>\n",
       "<style scoped>\n",
       "    .dataframe tbody tr th:only-of-type {\n",
       "        vertical-align: middle;\n",
       "    }\n",
       "\n",
       "    .dataframe tbody tr th {\n",
       "        vertical-align: top;\n",
       "    }\n",
       "\n",
       "    .dataframe thead th {\n",
       "        text-align: right;\n",
       "    }\n",
       "</style>\n",
       "<table border=\"1\" class=\"dataframe\">\n",
       "  <thead>\n",
       "    <tr style=\"text-align: right;\">\n",
       "      <th></th>\n",
       "      <th>impressions</th>\n",
       "      <th>clicks</th>\n",
       "    </tr>\n",
       "  </thead>\n",
       "  <tbody>\n",
       "    <tr>\n",
       "      <th>A</th>\n",
       "      <td>5127</td>\n",
       "      <td>1145</td>\n",
       "    </tr>\n",
       "    <tr>\n",
       "      <th>B</th>\n",
       "      <td>5127</td>\n",
       "      <td>1250</td>\n",
       "    </tr>\n",
       "  </tbody>\n",
       "</table>\n",
       "</div>"
      ],
      "text/plain": [
       "   impressions  clicks\n",
       "A         5127    1145\n",
       "B         5127    1250"
      ]
     },
     "execution_count": 2,
     "metadata": {},
     "output_type": "execute_result"
    }
   ],
   "source": [
    "df = pd.DataFrame({\"impressions\": [5127, 5127],\n",
    "                  \"clicks\": [1145,1250]}, \n",
    "                  index = [\"A\",\"B\"])\n",
    "df.head()"
   ]
  },
  {
   "cell_type": "code",
   "execution_count": 3,
   "id": "50ba5d8a",
   "metadata": {},
   "outputs": [
    {
     "data": {
      "text/html": [
       "<div>\n",
       "<style scoped>\n",
       "    .dataframe tbody tr th:only-of-type {\n",
       "        vertical-align: middle;\n",
       "    }\n",
       "\n",
       "    .dataframe tbody tr th {\n",
       "        vertical-align: top;\n",
       "    }\n",
       "\n",
       "    .dataframe thead th {\n",
       "        text-align: right;\n",
       "    }\n",
       "</style>\n",
       "<table border=\"1\" class=\"dataframe\">\n",
       "  <thead>\n",
       "    <tr style=\"text-align: right;\">\n",
       "      <th></th>\n",
       "      <th>clicks</th>\n",
       "      <th>no_clicks</th>\n",
       "    </tr>\n",
       "  </thead>\n",
       "  <tbody>\n",
       "    <tr>\n",
       "      <th>A</th>\n",
       "      <td>1145</td>\n",
       "      <td>3982</td>\n",
       "    </tr>\n",
       "    <tr>\n",
       "      <th>B</th>\n",
       "      <td>1250</td>\n",
       "      <td>3877</td>\n",
       "    </tr>\n",
       "  </tbody>\n",
       "</table>\n",
       "</div>"
      ],
      "text/plain": [
       "   clicks  no_clicks\n",
       "A    1145       3982\n",
       "B    1250       3877"
      ]
     },
     "execution_count": 3,
     "metadata": {},
     "output_type": "execute_result"
    }
   ],
   "source": [
    "df[\"no_clicks\"] = df[\"impressions\"]-df[\"clicks\"]\n",
    "df = df.drop([\"impressions\"], axis =1 )\n",
    "df.head()"
   ]
  },
  {
   "cell_type": "code",
   "execution_count": 4,
   "id": "e57b7575",
   "metadata": {},
   "outputs": [
    {
     "name": "stdout",
     "output_type": "stream",
     "text": [
      "6.0061905276744785,0.014255771852168957\n"
     ]
    }
   ],
   "source": [
    "result = stats.chi2_contingency(df, correction = False)\n",
    "chisq, pvalue = result[:2]\n",
    "print(f\"{chisq},{pvalue}\")"
   ]
  },
  {
   "cell_type": "code",
   "execution_count": 5,
   "id": "4644a237",
   "metadata": {},
   "outputs": [
    {
     "data": {
      "text/html": [
       "<div>\n",
       "<style scoped>\n",
       "    .dataframe tbody tr th:only-of-type {\n",
       "        vertical-align: middle;\n",
       "    }\n",
       "\n",
       "    .dataframe tbody tr th {\n",
       "        vertical-align: top;\n",
       "    }\n",
       "\n",
       "    .dataframe thead th {\n",
       "        text-align: right;\n",
       "    }\n",
       "</style>\n",
       "<table border=\"1\" class=\"dataframe\">\n",
       "  <thead>\n",
       "    <tr style=\"text-align: right;\">\n",
       "      <th></th>\n",
       "      <th>Day</th>\n",
       "      <th>Conversion_A</th>\n",
       "      <th>Conversion_B</th>\n",
       "    </tr>\n",
       "  </thead>\n",
       "  <tbody>\n",
       "    <tr>\n",
       "      <th>0</th>\n",
       "      <td>1</td>\n",
       "      <td>0.15</td>\n",
       "      <td>0.19</td>\n",
       "    </tr>\n",
       "    <tr>\n",
       "      <th>1</th>\n",
       "      <td>2</td>\n",
       "      <td>0.12</td>\n",
       "      <td>0.20</td>\n",
       "    </tr>\n",
       "    <tr>\n",
       "      <th>2</th>\n",
       "      <td>3</td>\n",
       "      <td>0.18</td>\n",
       "      <td>0.18</td>\n",
       "    </tr>\n",
       "    <tr>\n",
       "      <th>3</th>\n",
       "      <td>4</td>\n",
       "      <td>0.19</td>\n",
       "      <td>0.22</td>\n",
       "    </tr>\n",
       "    <tr>\n",
       "      <th>4</th>\n",
       "      <td>5</td>\n",
       "      <td>0.17</td>\n",
       "      <td>0.19</td>\n",
       "    </tr>\n",
       "  </tbody>\n",
       "</table>\n",
       "</div>"
      ],
      "text/plain": [
       "   Day  Conversion_A  Conversion_B\n",
       "0    1          0.15          0.19\n",
       "1    2          0.12          0.20\n",
       "2    3          0.18          0.18\n",
       "3    4          0.19          0.22\n",
       "4    5          0.17          0.19"
      ]
     },
     "execution_count": 5,
     "metadata": {},
     "output_type": "execute_result"
    }
   ],
   "source": [
    "df = pd.DataFrame ({\"Day\": list(range(1,11)),\n",
    "                   'Conversion_A': [0.15,0.12,0.18,0.19,0.17,0.13,0.14,0.23,0.11,0.15],\n",
    "                   'Conversion_B': [0.19,0.20,0.18,0.22,0.19,0.17,0.18,0.20,0.17,0.22]\n",
    "                   })\n",
    "df.head()"
   ]
  },
  {
   "cell_type": "code",
   "execution_count": 6,
   "id": "0005d708",
   "metadata": {},
   "outputs": [
    {
     "data": {
      "image/png": "[encoded data removed]",
      "text/plain": [
       "<Figure size 432x288 with 1 Axes>"
      ]
     },
     "metadata": {
      "needs_background": "light"
     },
     "output_type": "display_data"
    }
   ],
   "source": [
    "plt.Figure (figsize= (10,7))\n",
    "ax = sns.boxplot ( data = df[[\"Conversion_A\",\"Conversion_B\"]],palette = 'Set2')\n",
    "ax.yaxis.set_major_formatter(PercentFormatter(xmax=1))"
   ]
  },
  {
   "cell_type": "code",
   "execution_count": 7,
   "id": "46595db7",
   "metadata": {},
   "outputs": [
    {
     "name": "stdout",
     "output_type": "stream",
     "text": [
      "t_stat = -2.7321154763851614,0.013684259842725968\n"
     ]
    }
   ],
   "source": [
    "t_stat, p_val = stats.ttest_ind(df[\"Conversion_A\"],df['Conversion_B'])\n",
    "print(f\"{t_stat = },{p_val}\")"
   ]
  },
  {
   "cell_type": "code",
   "execution_count": null,
   "id": "d37e80e4",
   "metadata": {},
   "outputs": [],
   "source": []
  },
  {
   "cell_type": "code",
   "execution_count": 8,
   "id": "6e297985",
   "metadata": {},
   "outputs": [],
   "source": [
    "def value(x):\n",
    "    return - 10*x[0] - 20*x[1] - 30*x[2]"
   ]
  },
  {
   "cell_type": "code",
   "execution_count": 9,
   "id": "bbdbabad",
   "metadata": {},
   "outputs": [],
   "source": [
    "neq_cons = {\"type\":\"ineq\",\n",
    "           \"fun\": lambda x: np.array ([600 -10*x[0] - 20*x[1] - 30*x[2],\n",
    "                                     300 -7*x[0] - 15*x[1] - 20*x[2],\n",
    "                                      150 -10*x[0] - 10*x[1] - 15*x[2]])\n",
    "           }"
   ]
  },
  {
   "cell_type": "code",
   "execution_count": 10,
   "id": "c02cb5d3",
   "metadata": {
    "scrolled": true
   },
   "outputs": [],
   "source": [
    "bnds = Bounds([0,0,0],[np.inf,np.inf,np.inf])"
   ]
  },
  {
   "cell_type": "code",
   "execution_count": 11,
   "id": "764319eb",
   "metadata": {},
   "outputs": [
    {
     "name": "stdout",
     "output_type": "stream",
     "text": [
      "[5.57065505e-12 6.92307692e+00 5.38461538e+00]\n"
     ]
    }
   ],
   "source": [
    "x0 = np.array([10, 10, 10])\n",
    "res = minimize(value, x0, method='SLSQP', constraints=neq_cons, bounds=bnds)\n",
    "print(res.x)"
   ]
  },
  {
   "cell_type": "code",
   "execution_count": 12,
   "id": "7cb96d23",
   "metadata": {
    "scrolled": true
   },
   "outputs": [
    {
     "name": "stdout",
     "output_type": "stream",
     "text": [
      "Джуны: 320 чел, час\n",
      "Мидл: 247 чел, час\n",
      "Сеньор: 175 чел, час\n",
      "Максимальная прибыль: 350 тыс.руб\n"
     ]
    }
   ],
   "source": [
    "print('Джуны:', 5 * 10 + 6 * 20 + 5 * 30, 'чел, час')\n",
    "print('Мидл:', 6 * 7 + 7 * 15 + 5 * 20, 'чел, час')\n",
    "print('Сеньор:', 5 * 5 + 6 * 10 + 6 * 15, 'чел, час')\n",
    "print('Максимальная прибыль:', -1*value([6, 7, 5]),'тыс.руб')"
   ]
  },
  {
   "cell_type": "code",
   "execution_count": 13,
   "id": "093f7ccb",
   "metadata": {},
   "outputs": [
    {
     "data": {
      "text/html": [
       "<div>\n",
       "<style scoped>\n",
       "    .dataframe tbody tr th:only-of-type {\n",
       "        vertical-align: middle;\n",
       "    }\n",
       "\n",
       "    .dataframe tbody tr th {\n",
       "        vertical-align: top;\n",
       "    }\n",
       "\n",
       "    .dataframe thead th {\n",
       "        text-align: right;\n",
       "    }\n",
       "</style>\n",
       "<table border=\"1\" class=\"dataframe\">\n",
       "  <thead>\n",
       "    <tr style=\"text-align: right;\">\n",
       "      <th></th>\n",
       "      <th>day</th>\n",
       "      <th>retained</th>\n",
       "    </tr>\n",
       "  </thead>\n",
       "  <tbody>\n",
       "    <tr>\n",
       "      <th>0</th>\n",
       "      <td>0</td>\n",
       "      <td>100</td>\n",
       "    </tr>\n",
       "    <tr>\n",
       "      <th>1</th>\n",
       "      <td>1</td>\n",
       "      <td>55</td>\n",
       "    </tr>\n",
       "    <tr>\n",
       "      <th>2</th>\n",
       "      <td>7</td>\n",
       "      <td>38</td>\n",
       "    </tr>\n",
       "    <tr>\n",
       "      <th>3</th>\n",
       "      <td>14</td>\n",
       "      <td>26</td>\n",
       "    </tr>\n",
       "    <tr>\n",
       "      <th>4</th>\n",
       "      <td>21</td>\n",
       "      <td>21</td>\n",
       "    </tr>\n",
       "  </tbody>\n",
       "</table>\n",
       "</div>"
      ],
      "text/plain": [
       "   day  retained\n",
       "0    0       100\n",
       "1    1        55\n",
       "2    7        38\n",
       "3   14        26\n",
       "4   21        21"
      ]
     },
     "execution_count": 13,
     "metadata": {},
     "output_type": "execute_result"
    }
   ],
   "source": [
    "df = pd.DataFrame({\"day\": [0,1,7,14,21,30],\n",
    "                 \"retained\": [100,55,38,26,21,14]})\n",
    "df.head()"
   ]
  },
  {
   "cell_type": "code",
   "execution_count": 14,
   "id": "5b4cc31a",
   "metadata": {
    "scrolled": true
   },
   "outputs": [
    {
     "data": {
      "text/plain": [
       "<matplotlib.collections.PathCollection at 0x1f3c5134cd0>"
      ]
     },
     "execution_count": 14,
     "metadata": {},
     "output_type": "execute_result"
    },
    {
     "data": {
      "image/png": "[encoded data removed]",
      "text/plain": [
       "<Figure size 640x480 with 1 Axes>"
      ]
     },
     "metadata": {},
     "output_type": "display_data"
    }
   ],
   "source": [
    "plt.figure(num = None, figsize=(8,6), dpi = 80 ,facecolor=\"w\",edgecolor=\"k\")\n",
    "plt.scatter(df.day,df.retained,label = 'Original Data')"
   ]
  },
  {
   "cell_type": "code",
   "execution_count": 15,
   "id": "a77f7b0a",
   "metadata": {},
   "outputs": [],
   "source": [
    "def log_func(x,a,b,c):\n",
    "    return - a*np.log2(b+x)+c"
   ]
  },
  {
   "cell_type": "code",
   "execution_count": 16,
   "id": "ad812f42",
   "metadata": {},
   "outputs": [],
   "source": [
    "def exp_func( x, a, b, c ):\n",
    "    return a * np.exp( -b * x ) + c"
   ]
  },
  {
   "cell_type": "code",
   "execution_count": 17,
   "id": "fb469e20",
   "metadata": {},
   "outputs": [
    {
     "name": "stderr",
     "output_type": "stream",
     "text": [
      "D:\\Anaconda\\lib\\site-packages\\pandas\\core\\arraylike.py:397: RuntimeWarning: invalid value encountered in log2\n",
      "  result = getattr(ufunc, method)(*inputs, **kwargs)\n"
     ]
    }
   ],
   "source": [
    "log_popt, log_pcov = curve_fit(log_func,df['day'],df['retained'])"
   ]
  },
  {
   "cell_type": "code",
   "execution_count": 18,
   "id": "2d8988cb",
   "metadata": {},
   "outputs": [],
   "source": [
    "exp_popt, exp_pcov = curve_fit(exp_func, df['day'], df['retained'])"
   ]
  },
  {
   "cell_type": "code",
   "execution_count": 19,
   "id": "6c73c3a7",
   "metadata": {},
   "outputs": [],
   "source": [
    "projection_endpoint = 90"
   ]
  },
  {
   "cell_type": "code",
   "execution_count": 20,
   "id": "6086621f",
   "metadata": {
    "scrolled": true
   },
   "outputs": [],
   "source": [
    "log_y_projected = log_func( np.arange( projection_endpoint ), *log_popt )\n",
    "exp_y_projected = exp_func( np.arange( projection_endpoint ), *exp_popt )"
   ]
  },
  {
   "cell_type": "code",
   "execution_count": 21,
   "id": "28137e6b",
   "metadata": {},
   "outputs": [
    {
     "data": {
      "image/png": "[encoded data removed]",
      "text/plain": [
       "<Figure size 640x480 with 1 Axes>"
      ]
     },
     "metadata": {},
     "output_type": "display_data"
    }
   ],
   "source": [
    "plt.figure(num = None, figsize=(8,6), dpi = 80 ,facecolor=\"w\",edgecolor=\"k\")\n",
    "plt.scatter(df.day,df.retained,label = 'Original Data')\n",
    "plt.plot(log_y_projected,label = \"log\")\n",
    "plt.plot(exp_y_projected,label = \"exp\")\n",
    "plt.legend()\n",
    "plt.show()"
   ]
  },
  {
   "cell_type": "code",
   "execution_count": 22,
   "id": "22ccd0c0",
   "metadata": {},
   "outputs": [
    {
     "name": "stdout",
     "output_type": "stream",
     "text": [
      "4.0\n"
     ]
    }
   ],
   "source": [
    "print(round(log_y_projected[89],0))"
   ]
  },
  {
   "cell_type": "markdown",
   "id": "ecf3439a",
   "metadata": {},
   "source": [
    "Задание №3"
   ]
  },
  {
   "cell_type": "code",
   "execution_count": 23,
   "id": "8798e837",
   "metadata": {},
   "outputs": [
    {
     "data": {
      "text/html": [
       "<div>\n",
       "<style scoped>\n",
       "    .dataframe tbody tr th:only-of-type {\n",
       "        vertical-align: middle;\n",
       "    }\n",
       "\n",
       "    .dataframe tbody tr th {\n",
       "        vertical-align: top;\n",
       "    }\n",
       "\n",
       "    .dataframe thead th {\n",
       "        text-align: right;\n",
       "    }\n",
       "</style>\n",
       "<table border=\"1\" class=\"dataframe\">\n",
       "  <thead>\n",
       "    <tr style=\"text-align: right;\">\n",
       "      <th></th>\n",
       "      <th>day</th>\n",
       "      <th>finance</th>\n",
       "    </tr>\n",
       "  </thead>\n",
       "  <tbody>\n",
       "    <tr>\n",
       "      <th>0</th>\n",
       "      <td>1</td>\n",
       "      <td>0.4</td>\n",
       "    </tr>\n",
       "    <tr>\n",
       "      <th>1</th>\n",
       "      <td>3</td>\n",
       "      <td>0.6</td>\n",
       "    </tr>\n",
       "    <tr>\n",
       "      <th>2</th>\n",
       "      <td>7</td>\n",
       "      <td>0.8</td>\n",
       "    </tr>\n",
       "    <tr>\n",
       "      <th>3</th>\n",
       "      <td>14</td>\n",
       "      <td>1.1</td>\n",
       "    </tr>\n",
       "    <tr>\n",
       "      <th>4</th>\n",
       "      <td>21</td>\n",
       "      <td>1.3</td>\n",
       "    </tr>\n",
       "  </tbody>\n",
       "</table>\n",
       "</div>"
      ],
      "text/plain": [
       "   day  finance\n",
       "0    1      0.4\n",
       "1    3      0.6\n",
       "2    7      0.8\n",
       "3   14      1.1\n",
       "4   21      1.3"
      ]
     },
     "execution_count": 23,
     "metadata": {},
     "output_type": "execute_result"
    }
   ],
   "source": [
    "df = pd.DataFrame({\"day\": [1,3,7,14,21,30],\n",
    "                 \"finance\": [0.4,0.6,0.8,1.10,1.30,1.40]})\n",
    "df.head()"
   ]
  },
  {
   "cell_type": "code",
   "execution_count": 24,
   "id": "a276eede",
   "metadata": {},
   "outputs": [
    {
     "data": {
      "text/plain": [
       "<matplotlib.collections.PathCollection at 0x1f3c521e760>"
      ]
     },
     "execution_count": 24,
     "metadata": {},
     "output_type": "execute_result"
    },
    {
     "data": {
      "image/png": "[encoded data removed]",
      "text/plain": [
       "<Figure size 640x480 with 1 Axes>"
      ]
     },
     "metadata": {},
     "output_type": "display_data"
    }
   ],
   "source": [
    "plt.figure(num = None, figsize=(8,6), dpi = 80 ,facecolor=\"w\",edgecolor=\"k\")\n",
    "plt.scatter(df.day,df.finance,label = 'Original Data')"
   ]
  },
  {
   "cell_type": "code",
   "execution_count": 25,
   "id": "5fa163ad",
   "metadata": {},
   "outputs": [],
   "source": [
    "def func_1(x,a,b):\n",
    "    return - a*(b**x)"
   ]
  },
  {
   "cell_type": "code",
   "execution_count": 26,
   "id": "118d4126",
   "metadata": {},
   "outputs": [],
   "source": [
    "def ln_func(x,a,b):\n",
    "    return - a*np.log(x) + b"
   ]
  },
  {
   "cell_type": "code",
   "execution_count": 27,
   "id": "c235bff3",
   "metadata": {},
   "outputs": [],
   "source": [
    "f1_popt, f1_pcov = curve_fit(func_1,df['day'],df['finance'])"
   ]
  },
  {
   "cell_type": "code",
   "execution_count": 28,
   "id": "55eb0854",
   "metadata": {},
   "outputs": [],
   "source": [
    "ln_popt, ln_pcov = curve_fit(ln_func,df['day'],df['finance'])"
   ]
  },
  {
   "cell_type": "code",
   "execution_count": 29,
   "id": "7ac946f5",
   "metadata": {},
   "outputs": [],
   "source": [
    "projection_endpoint = 90"
   ]
  },
  {
   "cell_type": "code",
   "execution_count": 30,
   "id": "37fc14af",
   "metadata": {},
   "outputs": [
    {
     "name": "stderr",
     "output_type": "stream",
     "text": [
      "C:\\Users\\Данил\\AppData\\Local\\Temp\\ipykernel_14456\\1129090278.py:2: RuntimeWarning: divide by zero encountered in log\n",
      "  return - a*np.log(x) + b\n"
     ]
    }
   ],
   "source": [
    "f1_y_projected = func_1( np.arange( projection_endpoint ), *f1_popt )\n",
    "ln_y_projected = ln_func( np.arange( projection_endpoint ), *ln_popt )"
   ]
  },
  {
   "cell_type": "code",
   "execution_count": 31,
   "id": "be63e9f5",
   "metadata": {},
   "outputs": [
    {
     "data": {
      "image/png": "[encoded data removed]",
      "text/plain": [
       "<Figure size 640x480 with 1 Axes>"
      ]
     },
     "metadata": {},
     "output_type": "display_data"
    }
   ],
   "source": [
    "plt.figure(num = None, figsize=(8,6), dpi = 80 ,facecolor=\"w\",edgecolor=\"k\")\n",
    "plt.scatter(df.day,df.finance,label = 'Original Data')\n",
    "plt.plot(f1_y_projected,label = \"rank\")\n",
    "plt.plot(ln_y_projected,label = \"ln\")\n",
    "plt.legend()\n",
    "plt.show()"
   ]
  },
  {
   "cell_type": "code",
   "execution_count": 33,
   "id": "060abe49",
   "metadata": {},
   "outputs": [
    {
     "name": "stdout",
     "output_type": "stream",
     "text": [
      "Наиболее подходит лограрифмическая функция\n",
      "2.0\n"
     ]
    }
   ],
   "source": [
    "print(f\"Наиболее подходит лограрифмическая функция\")\n",
    "print(round(ln_y_projected[89],0))"
   ]
  },
  {
   "cell_type": "raw",
   "id": "33ade26c",
   "metadata": {},
   "source": [
    "Задание 2\n",
    "Возьмем за x1 - количество стульев, а за x2 - количество столов, тогда:\n",
    "45x1+80x2 -> max\n",
    "5x1+20x2<=400\n",
    "10x1+15x2<=450"
   ]
  },
  {
   "cell_type": "code",
   "execution_count": 34,
   "id": "76fc7f56",
   "metadata": {},
   "outputs": [],
   "source": [
    "def value(x):\n",
    "    return - 45*x[0] - 80*x[1] "
   ]
  },
  {
   "cell_type": "code",
   "execution_count": 35,
   "id": "b1f05531",
   "metadata": {},
   "outputs": [],
   "source": [
    "neq_cons = {\"type\":\"ineq\",\n",
    "           \"fun\": lambda x: np.array ([400 -5*x[0] - 20*x[1] ,\n",
    "                                     450 -10*x[0] - 15*x[1] ])\n",
    "           }"
   ]
  },
  {
   "cell_type": "code",
   "execution_count": 36,
   "id": "20bc1389",
   "metadata": {},
   "outputs": [],
   "source": [
    "bnds = Bounds([0,0],[np.inf,np.inf])"
   ]
  },
  {
   "cell_type": "code",
   "execution_count": 37,
   "id": "d968d3a4",
   "metadata": {},
   "outputs": [
    {
     "name": "stdout",
     "output_type": "stream",
     "text": [
      "[24. 14.]\n"
     ]
    }
   ],
   "source": [
    "x0 = np.array([10, 10])\n",
    "res = minimize(value, x0, method='SLSQP', constraints=neq_cons, bounds=bnds)\n",
    "print(res.x)"
   ]
  },
  {
   "cell_type": "code",
   "execution_count": 39,
   "id": "9fbe26a2",
   "metadata": {},
   "outputs": [
    {
     "name": "stdout",
     "output_type": "stream",
     "text": [
      "необходимо сделать 24 стульев и 14 столов\n"
     ]
    }
   ],
   "source": [
    "print(f\"необходимо сделать {round(res.x[0])} стульев и {round(res.x[1])} столов для получения максимальной прибыли\")"
   ]
  }
 ],
 "metadata": {
  "kernelspec": {
   "display_name": "Python 3 (ipykernel)",
   "language": "python",
   "name": "python3"
  },
  "language_info": {
   "codemirror_mode": {
    "name": "ipython",
    "version": 3
   },
   "file_extension": ".py",
   "mimetype": "text/x-python",
   "name": "python",
   "nbconvert_exporter": "python",
   "pygments_lexer": "ipython3",
   "version": "3.9.12"
  }
 },
 "nbformat": 4,
 "nbformat_minor": 5
}
